{
 "cells": [
  {
   "cell_type": "code",
   "execution_count": 16,
   "id": "fb7a9650",
   "metadata": {},
   "outputs": [],
   "source": [
    "def BMI ():\n",
    "    tinggi = float(input(\"msukkan tinggi badan anda: \")) \n",
    "    berat = float(input(\"masukkan berat badan anda: \"))\n",
    "    \n",
    "    bmi = berat/(tinggi/100)**2\n",
    "    if bmi >= 16.0 and bmi <= 18.5:\n",
    "        return \"kurus\", bmi\n",
    "    elif bmi >= 18.5 and bmi <= 25.0: \n",
    "        return \"normal\", bmi\n",
    "    elif bmi >= 25.0 and bmi <= 40.0:\n",
    "        return \"gemuk\", bmi\n",
    "    elif bmi >= 40.0 and bmi <= 60.0:\n",
    "        return \"obesitas\", bmi\n",
    "    \n",
    "    kuotes, bmi = BMI()\n",
    "    print(\"bmi kamu adalah: () dan kamu sekarang: \".format(bmi, kuotes))"
   ]
  },
  {
   "cell_type": "code",
   "execution_count": 18,
   "id": "4c3b2a09",
   "metadata": {},
   "outputs": [
    {
     "name": "stdout",
     "output_type": "stream",
     "text": [
      "msukkan tinggi badan anda: 170\n",
      "masukkan berat badan anda: 100\n"
     ]
    },
    {
     "data": {
      "text/plain": [
       "('gemuk', 34.602076124567475)"
      ]
     },
     "execution_count": 18,
     "metadata": {},
     "output_type": "execute_result"
    }
   ],
   "source": [
    "BMI()"
   ]
  },
  {
   "cell_type": "code",
   "execution_count": null,
   "id": "4ba5b510",
   "metadata": {},
   "outputs": [],
   "source": []
  }
 ],
 "metadata": {
  "kernelspec": {
   "display_name": "Python 3 (ipykernel)",
   "language": "python",
   "name": "python3"
  },
  "language_info": {
   "codemirror_mode": {
    "name": "ipython",
    "version": 3
   },
   "file_extension": ".py",
   "mimetype": "text/x-python",
   "name": "python",
   "nbconvert_exporter": "python",
   "pygments_lexer": "ipython3",
   "version": "3.9.12"
  }
 },
 "nbformat": 4,
 "nbformat_minor": 5
}
